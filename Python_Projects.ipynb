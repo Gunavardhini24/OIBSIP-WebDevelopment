{
  "nbformat": 4,
  "nbformat_minor": 0,
  "metadata": {
    "colab": {
      "provenance": [],
      "authorship_tag": "ABX9TyNE+EMxvXsK3ybcNaSCpAB3",
      "include_colab_link": true
    },
    "kernelspec": {
      "name": "python3",
      "display_name": "Python 3"
    },
    "language_info": {
      "name": "python"
    }
  },
  "cells": [
    {
      "cell_type": "markdown",
      "metadata": {
        "id": "view-in-github",
        "colab_type": "text"
      },
      "source": [
        "<a href=\"https://colab.research.google.com/github/Gunavardhini24/OIBSIP-WebDevelopment/blob/main/Python_Projects.ipynb\" target=\"_parent\"><img src=\"https://colab.research.google.com/assets/colab-badge.svg\" alt=\"Open In Colab\"/></a>"
      ]
    },
    {
      "cell_type": "code",
      "execution_count": null,
      "metadata": {
        "colab": {
          "base_uri": "https://localhost:8080/"
        },
        "id": "Ed8iWb8NYVX3",
        "outputId": "56c9b3ff-d45d-4e58-d544-9da282bf197b"
      },
      "outputs": [
        {
          "metadata": {
            "tags": null
          },
          "name": "stdout",
          "output_type": "stream",
          "text": [
            "Chatbot: Hi, how can I assist you today?\n",
            "Chatbot: None\n"
          ]
        }
      ],
      "source": [
        "import nltk\n",
        "from nltk.chat.util import Chat, reflections\n",
        "\n",
        "# Define pairs of patterns and responses\n",
        "pairs = [\n",
        "    ['my name is (.*)', ['Hi %1, how can I help you?']],\n",
        "    ['(hi|hello|hey|hola)', ['Hello, how can I assist you?']],\n",
        "    ['(.*) (location|city) ?', ['Tokyo, Japan']],\n",
        "    ['(.*) weather (.*)', ['Weather in %1 is usually nice']],\n",
        "    ['(.*) help (.*)', ['I can help you with various tasks. Please specify.']],\n",
        "    ['(.*) your name ?', ['I am a chatbot!']],\n",
        "    ['(.*) thank you (.*)', ['You\\'re welcome!']],\n",
        "]\n",
        "\n",
        "# Create a chatbot using the pairs and reflections\n",
        "chatbot = Chat(pairs, reflections)\n",
        "\n",
        "# Start chatting\n",
        "print(\"Chatbot: Hi, how can I assist you today?\")\n",
        "while True:\n",
        "    user_input = input(\"User: \")\n",
        "    if user_input.lower() == 'quit':\n",
        "        break\n",
        "    response = chatbot.respond(user_input)\n",
        "    print(\"Chatbot:\", response)\n"
      ]
    },
    {
      "cell_type": "code",
      "source": [
        "import speech_recognition as sr\n",
        "import pyttsx3\n",
        "\n",
        "# Initialize the speech recognizer and text-to-speech engine\n",
        "recognizer = sr.Recognizer()\n",
        "engine = pyttsx3.init()\n",
        "\n",
        "# Function to speak out the response\n",
        "def speak(text):\n",
        "    engine.say(text)\n",
        "    engine.runAndWait()\n",
        "\n",
        "# Function to listen to the user's voice\n",
        "def listen():\n",
        "    with sr.Microphone() as source:\n",
        "        print(\"Listening...\")\n",
        "        recognizer.adjust_for_ambient_noise(source)\n",
        "        audio = recognizer.listen(source)\n",
        "\n",
        "    try:\n",
        "        print(\"Recognizing...\")\n",
        "        user_input = recognizer.recognize_google(audio)\n",
        "        print(\"User:\", user_input)\n",
        "        return user_input.lower()\n",
        "    except sr.UnknownValueError:\n",
        "        speak(\"Sorry, I didn't catch that. Can you please repeat?\")\n",
        "        return listen()\n",
        "    except sr.RequestError:\n",
        "        speak(\"Sorry, there was an error processing your request.\")\n",
        "        return None\n",
        "\n",
        "# Function to handle user commands\n",
        "def handle_command(command):\n",
        "    if \"hello\" in command:\n",
        "        speak(\"Hello! How can I help you?\")\n",
        "    elif \"how are you\" in command:\n",
        "        speak(\"I'm fine, thank you!\")\n",
        "    elif \"what is your name\" in command:\n",
        "        speak(\"I am a voice assistant.\")\n",
        "    elif \"bye\" in command:\n",
        "        speak(\"Goodbye!\")\n",
        "        exit()\n",
        "    else:\n",
        "        speak(\"I'm sorry, I didn't understand that.\")\n",
        "\n",
        "# Main loop for the voice assistant\n",
        "speak(\"Hello! How can I help you?\")\n",
        "while True:\n",
        "    user_input = listen()\n",
        "    if user_input:\n",
        "        handle_command(user_input)\n"
      ],
      "metadata": {
        "id": "zOeOEkrKYnB1"
      },
      "execution_count": null,
      "outputs": []
    },
    {
      "cell_type": "code",
      "source": [],
      "metadata": {
        "id": "2GEulBdFZGEQ"
      },
      "execution_count": null,
      "outputs": []
    }
  ]
}